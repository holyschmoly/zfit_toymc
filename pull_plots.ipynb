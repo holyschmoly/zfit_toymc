{
 "cells": [
  {
   "cell_type": "code",
   "execution_count": 1,
   "metadata": {},
   "outputs": [],
   "source": [
    "import zfit\n",
    "import tensorflow as tf\n",
    "import numpy as np"
   ]
  },
  {
   "cell_type": "code",
   "execution_count": 2,
   "metadata": {},
   "outputs": [],
   "source": [
    "obs = zfit.Space('x', limits=(-5, 5))\n",
    "\n",
    "mu = zfit.Parameter('mu', 0, -1, 1)\n",
    "sigma = zfit.Parameter('sigma', 1, 0.5, 1.5)\n",
    "model = zfit.pdf.Gauss(obs=obs, mu=mu, sigma=sigma)"
   ]
  },
  {
   "cell_type": "code",
   "execution_count": 3,
   "metadata": {},
   "outputs": [],
   "source": [
    "# do i need this range here?\n",
    "nsig_toy = 1e4\n",
    "nsig_range = 0.1\n",
    "n_sig = zfit.Parameter('n_sig', nsig_toy, nsig_toy*(1-nsig_range), nsig_toy*(1+nsig_range))\n",
    "model = model.create_extended(n_sig)\n",
    "\n",
    "# vary only n_sig\n",
    "sampler = model.create_sampler(fixed_params=[mu, sigma])\n",
    "nll = zfit.loss.ExtendedUnbinnedNLL(model, sampler)\n",
    "\n",
    "minimizer = zfit.minimize.Minuit(\n",
    "    strategy=zfit.minimize.DefaultToyStrategy(),\n",
    "    verbosity=0,\n",
    "    tolerance=1e-3,\n",
    "    use_minuit_grad=True)\n",
    "params = nll.get_params()"
   ]
  },
  {
   "cell_type": "code",
   "execution_count": 4,
   "metadata": {},
   "outputs": [],
   "source": [
    "fit_results = []\n",
    "ntoys = 10\n",
    "\n",
    "while len(fit_results) < ntoys:\n",
    "\n",
    "    # What does really happen here?\n",
    "    sampler.resample()\n",
    "\n",
    "    # I think this is probably not what I want but I don't understand why\n",
    "    # this is needed in the first place.\n",
    "    # I want something like: vary n_sig randomly, keep mu and sigma fixed\n",
    "    for param in params:\n",
    "       param.randomize()\n",
    "\n",
    "    result = minimizer.minimize(nll)\n",
    "\n",
    "    if result.converged:\n",
    "        result.hesse()\n",
    "        fit_results.append(result)"
   ]
  },
  {
   "cell_type": "markdown",
   "metadata": {},
   "source": [
    "# Pull plots\n",
    "Now I want something like this:  \n",
    "    pull =  (N_generated - N_fit ) / sigma_fit  \n",
    "for each fit_result."
   ]
  },
  {
   "cell_type": "code",
   "execution_count": null,
   "metadata": {},
   "outputs": [],
   "source": []
  }
 ],
 "metadata": {
  "kernelspec": {
   "display_name": "Python 3",
   "language": "python",
   "name": "python3"
  },
  "language_info": {
   "codemirror_mode": {
    "name": "ipython",
    "version": 3
   },
   "file_extension": ".py",
   "mimetype": "text/x-python",
   "name": "python",
   "nbconvert_exporter": "python",
   "pygments_lexer": "ipython3",
   "version": "3.6.10"
  }
 },
 "nbformat": 4,
 "nbformat_minor": 4
}
